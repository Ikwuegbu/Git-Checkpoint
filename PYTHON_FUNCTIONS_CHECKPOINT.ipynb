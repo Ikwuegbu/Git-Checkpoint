{
  "nbformat": 4,
  "nbformat_minor": 0,
  "metadata": {
    "colab": {
      "provenance": [],
      "authorship_tag": "ABX9TyNhbVlafFc2DFzQQ8IxZMiZ",
      "include_colab_link": true
    },
    "kernelspec": {
      "name": "python3",
      "display_name": "Python 3"
    },
    "language_info": {
      "name": "python"
    }
  },
  "cells": [
    {
      "cell_type": "markdown",
      "metadata": {
        "id": "view-in-github",
        "colab_type": "text"
      },
      "source": [
        "<a href=\"https://colab.research.google.com/github/Ikwuegbu/Git-Checkpoint/blob/main/PYTHON_FUNCTIONS_CHECKPOINT.ipynb\" target=\"_parent\"><img src=\"https://colab.research.google.com/assets/colab-badge.svg\" alt=\"Open In Colab\"/></a>"
      ]
    },
    {
      "cell_type": "code",
      "execution_count": null,
      "metadata": {
        "colab": {
          "base_uri": "https://localhost:8080/"
        },
        "id": "QiywRfS7eO3K",
        "outputId": "4473987c-7e29-4199-91f1-37af5474c679"
      },
      "outputs": [
        {
          "output_type": "stream",
          "name": "stdout",
          "text": [
            "What's the first number?: 2\n",
            "+\n",
            "-\n",
            "*\n",
            "/\n",
            "Pick an operation: +\n",
            "What's the next number?: 4\n",
            "2.0 + 4.0 = 6.0\n",
            "Type 'y' to continue calculating with 6.0, or type 'n' to start a new calculation: n\n",
            "What's the first number?: 4\n",
            "+\n",
            "-\n",
            "*\n",
            "/\n",
            "Pick an operation: *\n",
            "What's the next number?: 4\n",
            "4.0 * 4.0 = 16.0\n"
          ]
        }
      ],
      "source": [
        "def add(n1,n2):\n",
        "    return n1+n2\n",
        "def subtract(n1,n2):\n",
        "    return n1-n2\n",
        "def multiply(n1,n2):\n",
        "    return n1*n2\n",
        "def divide(n1,n2):\n",
        "    if n2 !=0:\n",
        "      return n1/n2\n",
        "    else:\n",
        "      return \"Error! Division by Zero.\"\n",
        "operations = {\n",
        "    \"+\":add,\n",
        "    \"-\":subtract,\n",
        "    \"*\":multiply,\n",
        "    \"/\":divide\n",
        "}\n",
        "def calculator():\n",
        "  num1 = float(input(\"What's the first number?: \"))\n",
        "  for symbol in operations:\n",
        "    print(symbol)\n",
        "  should_continue = True\n",
        "  while should_continue:\n",
        "    operation_symbol = input(\"Pick an operation: \")\n",
        "    num2 = float(input(\"What's the next number?: \"))\n",
        "    calculation_function = operations[operation_symbol]\n",
        "    answer = calculation_function(num1, num2)\n",
        "    print(f\"{num1} {operation_symbol} {num2} = {answer}\")\n",
        "    if input(f\"Type 'y' to continue calculating with {answer}, or type 'n' to start a new calculation: \") == 'y':\n",
        "      num1 = answer\n",
        "    else:\n",
        "      should_continue = False\n",
        "      calculator()\n",
        "calculator()\n"
      ]
    }
  ]
}