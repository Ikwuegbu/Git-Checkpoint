{
  "nbformat": 4,
  "nbformat_minor": 0,
  "metadata": {
    "colab": {
      "provenance": [],
      "authorship_tag": "ABX9TyO+14wqaNWUXFgLZy7p74Ue",
      "include_colab_link": true
    },
    "kernelspec": {
      "name": "python3",
      "display_name": "Python 3"
    },
    "language_info": {
      "name": "python"
    }
  },
  "cells": [
    {
      "cell_type": "markdown",
      "metadata": {
        "id": "view-in-github",
        "colab_type": "text"
      },
      "source": [
        "<a href=\"https://colab.research.google.com/github/Ikwuegbu/Git-Checkpoint/blob/main/NUMPY_CHECKPOINT_(grades_analysis_py).ipynb\" target=\"_parent\"><img src=\"https://colab.research.google.com/assets/colab-badge.svg\" alt=\"Open In Colab\"/></a>"
      ]
    },
    {
      "cell_type": "code",
      "execution_count": 2,
      "metadata": {
        "id": "0Gaqavw9D3qd"
      },
      "outputs": [],
      "source": [
        "import numpy as np"
      ]
    },
    {
      "cell_type": "code",
      "source": [
        "grades = np.array ([85,90,88,92,95,80,75,98,89,83])\n",
        "mean_grade = np.mean(grades)\n",
        "median_grade = np.median(grades)\n",
        "std_dev_grade = np.std(grades)\n",
        "max_grade = np.max(grades)\n",
        "min_grade = np.min(grades)\n",
        "sorted_grades = np.sort(grades)\n",
        "index_of_max = np.argmax(grades)\n",
        "num_above_90 = np.sum(grades > 90)\n",
        "percentage_above_90 = np.mean(grades > 90) * 100\n",
        "num_below_75 = np.sum(grades < 75)\n",
        "percentage_below_75 = np.mean(grades < 75) * 100\n",
        "high_performers = grades[grades > 90]\n",
        "passing_grades = grades[grades > 75]\n",
        "print(f\"grades: {grades}\")\n",
        "print(f\"mean grade: {mean_grade}\")\n",
        "print(f\"median grade: {median_grade}\")\n",
        "print(f\"standard deviation of grade: {std_dev_grade}\")\n",
        "print(f\"maximum grade: {max_grade}\")\n",
        "print(f\"minimum grade: {min_grade}\")\n",
        "print(f\"sorted grades: {sorted_grades}\")\n",
        "print(f\"index of the highest grade: {index_of_max}\")\n",
        "print(f\"number of students scoring above 90: {num_above_90}\")\n",
        "print(f\"percentage of students scoring above 90: {percentage_above_90:.2f}%\")\n",
        "print(f\"number of students scoring below 75: {num_below_75}\")\n",
        "print(f\"percentage of students scoring below 75: {percentage_below_75:.2f}%\")\n",
        "print(f\"high performers (grades>90): {high_performers}\")\n",
        "print(f\"passing grades (grades>75): {passing_grades}\")\n"
      ],
      "metadata": {
        "colab": {
          "base_uri": "https://localhost:8080/"
        },
        "id": "ln4EsQi0ESUi",
        "outputId": "61da39a6-caef-4f6d-814a-d958f4ef25ed"
      },
      "execution_count": 11,
      "outputs": [
        {
          "output_type": "stream",
          "name": "stdout",
          "text": [
            "grades: [85 90 88 92 95 80 75 98 89 83]\n",
            "mean grade: 87.5\n",
            "median grade: 88.5\n",
            "standard deviation of grade: 6.591661399070799\n",
            "maximum grade: 98\n",
            "minimum grade: 75\n",
            "sorted grades: [75 80 83 85 88 89 90 92 95 98]\n",
            "index of the highest grade: 7\n",
            "number of students scoring above 90: 3\n",
            "percentage of students scoring above 90: 30.00%\n",
            "number of students scoring below 75: 0\n",
            "percentage of students scoring below 75: 0.00%\n",
            "high performers (grades>90): [92 95 98]\n",
            "passing grades (grades>75): [85 90 88 92 95 80 98 89 83]\n"
          ]
        }
      ]
    }
  ]
}