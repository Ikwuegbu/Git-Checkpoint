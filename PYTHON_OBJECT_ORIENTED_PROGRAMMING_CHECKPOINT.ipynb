{
  "nbformat": 4,
  "nbformat_minor": 0,
  "metadata": {
    "colab": {
      "provenance": [],
      "authorship_tag": "ABX9TyPlfes5zJYtVPSUM1P2H1Md",
      "include_colab_link": true
    },
    "kernelspec": {
      "name": "python3",
      "display_name": "Python 3"
    },
    "language_info": {
      "name": "python"
    }
  },
  "cells": [
    {
      "cell_type": "markdown",
      "metadata": {
        "id": "view-in-github",
        "colab_type": "text"
      },
      "source": [
        "<a href=\"https://colab.research.google.com/github/Ikwuegbu/Git-Checkpoint/blob/main/PYTHON_OBJECT_ORIENTED_PROGRAMMING_CHECKPOINT.ipynb\" target=\"_parent\"><img src=\"https://colab.research.google.com/assets/colab-badge.svg\" alt=\"Open In Colab\"/></a>"
      ]
    },
    {
      "cell_type": "code",
      "execution_count": 9,
      "metadata": {
        "colab": {
          "base_uri": "https://localhost:8080/"
        },
        "id": "LCJSp81jqgak",
        "outputId": "38bf48e3-81c2-4bb8-d520-6e4e2cfe4b18"
      },
      "outputs": [
        {
          "output_type": "stream",
          "name": "stdout",
          "text": [
            "Deposited 500 to 0064818678.New balance:500.0\n",
            "Withdraw 100 from 0064818678.New balance: 400.0\n",
            "Account_balance for 0064818678:400.0\n",
            "Deposited 200 to 8203170202.New balance:1000200\n",
            "Withdraw 300 from 8203170202.New balance: 999900\n",
            "Account_balance for 8203170202:999900\n"
          ]
        }
      ],
      "source": [
        "class Account:\n",
        "    def __init__(self, account_number:str, account_holder:str, account_balance:float = 0.0):\n",
        "        self.account_number = account_number\n",
        "        self.account_holder = account_holder\n",
        "        self.account_balance = account_balance\n",
        "    def deposit(self,amount:float):\n",
        "        if amount > 0:\n",
        "          self.account_balance += amount\n",
        "          print(f\"Deposited {amount} to {self.account_number}.New balance:{self.account_balance}\")\n",
        "        else:\n",
        "          print(\"Deposit amount must be greater than 0.\")\n",
        "    def withdraw (self,amount:float):\n",
        "        if 0 < amount <= self.account_balance:\n",
        "          self.account_balance -= amount\n",
        "          print(f\"Withdraw {amount} from {self.account_number}.New balance: {self.account_balance}\")\n",
        "        else:\n",
        "          print(f\"Insufficient balance or invalid amount. current balance.{self.account_balance}\")\n",
        "    def check_balance(self):\n",
        "        return f\"Account_balance for {self.account_number}:{self.account_balance}\"\n",
        "if __name__ == \"__main__\":\n",
        "        my_account = Account(account_number = \"0064818678\", account_holder = \"Chibuzor Ugonna\")\n",
        "        my_account.deposit(500)\n",
        "        my_account.withdraw(100)\n",
        "        print(my_account.check_balance())\n",
        "        another_account = Account(account_number = \"8203170202\",account_holder = \"Chibuzor Ugonna\", account_balance = 1000000)\n",
        "        another_account.deposit(200)\n",
        "        another_account.withdraw(300)\n",
        "        print(another_account.check_balance())\n"
      ]
    }
  ]
}