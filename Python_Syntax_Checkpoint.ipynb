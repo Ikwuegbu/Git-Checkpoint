{
  "nbformat": 4,
  "nbformat_minor": 0,
  "metadata": {
    "colab": {
      "provenance": [],
      "toc_visible": true,
      "authorship_tag": "ABX9TyOgH387/7nFDDVM/iycVq70",
      "include_colab_link": true
    },
    "kernelspec": {
      "name": "python3",
      "display_name": "Python 3"
    },
    "language_info": {
      "name": "python"
    }
  },
  "cells": [
    {
      "cell_type": "markdown",
      "metadata": {
        "id": "view-in-github",
        "colab_type": "text"
      },
      "source": [
        "<a href=\"https://colab.research.google.com/github/Ikwuegbu/Git-Checkpoint/blob/main/Python_Syntax_Checkpoint.ipynb\" target=\"_parent\"><img src=\"https://colab.research.google.com/assets/colab-badge.svg\" alt=\"Open In Colab\"/></a>"
      ]
    },
    {
      "cell_type": "code",
      "execution_count": 7,
      "metadata": {
        "colab": {
          "base_uri": "https://localhost:8080/"
        },
        "id": "gGcWkmJ47E58",
        "outputId": "0cc1e8fc-5507-4dff-df1d-67f18ee79127"
      },
      "outputs": [
        {
          "output_type": "stream",
          "name": "stdout",
          "text": [
            "Welcome to Python Pizza Deliveries\n",
            "What Size of Pizza Do You Want? S, M, or L: L\n",
            "Do you want pepperoni? Y or N: Y\n",
            "Do you want extra cheese? Y or N: N\n",
            "Your final bill is: $25\n"
          ]
        }
      ],
      "source": [
        "print(\"Welcome to Python Pizza Deliveries\")\n",
        "size = input(\"What Size of Pizza Do You Want? S, M, or L: \")\n",
        "add_pepperoni = input(\"Do you want pepperoni? Y or N: \")\n",
        "extra_cheese = input(\"Do you want extra cheese? Y or N: \")\n",
        "bill = 0\n",
        "if size.upper() == \"S\" :\n",
        "  bill = 15\n",
        "elif size.upper() == \"M\" :\n",
        "  bill = 20\n",
        "elif size.upper() == \"L\" :\n",
        "  bill = 25\n",
        "else:\n",
        "  print(\"Invalid size selected\")\n",
        "if add_pepperoni.upper() == \"Y\" :\n",
        "  if size.upper() == \"S\" :\n",
        "    bill += 2\n",
        "else:\n",
        "    bill += 3\n",
        "if extra_cheese.upper() == \"Y\" :\n",
        "  bill += 1\n",
        "print(f\"Your final bill is: ${bill}\")"
      ]
    },
    {
      "cell_type": "code",
      "source": [],
      "metadata": {
        "id": "XoHWPk-AMUvQ"
      },
      "execution_count": null,
      "outputs": []
    }
  ]
}