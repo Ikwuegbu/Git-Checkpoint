{
  "nbformat": 4,
  "nbformat_minor": 0,
  "metadata": {
    "colab": {
      "provenance": [],
      "authorship_tag": "ABX9TyM19zhj/3IUTfKHE9dxnac2",
      "include_colab_link": true
    },
    "kernelspec": {
      "name": "python3",
      "display_name": "Python 3"
    },
    "language_info": {
      "name": "python"
    }
  },
  "cells": [
    {
      "cell_type": "markdown",
      "metadata": {
        "id": "view-in-github",
        "colab_type": "text"
      },
      "source": [
        "<a href=\"https://colab.research.google.com/github/Ikwuegbu/Git-Checkpoint/blob/main/PANDAS_DATAFRAMES_CHECKPOINT.ipynb\" target=\"_parent\"><img src=\"https://colab.research.google.com/assets/colab-badge.svg\" alt=\"Open In Colab\"/></a>"
      ]
    },
    {
      "cell_type": "code",
      "execution_count": 6,
      "metadata": {
        "id": "fMl2_CTtOEgV",
        "colab": {
          "base_uri": "https://localhost:8080/"
        },
        "outputId": "ad8cb52e-3edf-47e1-cdb7-4a3303e770e1"
      },
      "outputs": [
        {
          "output_type": "stream",
          "name": "stdout",
          "text": [
            "    Name Department  Age  Gender  Salary  Experience\n",
            "0   John         IT   30    Male   50000           3\n",
            "1   Mary  Marketing   40  Female   60000           7\n",
            "2    Bob      Sales   25    Male   45000           2\n",
            "3  Sarah         IT   35  Female   55000           5\n",
            "4    Tom    Finance   45    Male   70000          10\n",
            "5   Lisa  Marketing   28  Female   55000           4\n"
          ]
        }
      ],
      "source": [
        "import pandas as pd\n",
        "# Creating the DataFrame\n",
        "data = {\n",
        "    'Name': ['John', 'Mary', 'Bob', 'Sarah', 'Tom', 'Lisa'],\n",
        "    'Department': ['IT', 'Marketing', 'Sales', 'IT', 'Finance', 'Marketing'],\n",
        "    'Age': [30, 40, 25, 35, 45, 28],\n",
        "    'Gender': ['Male', 'Female', 'Male', 'Female', 'Male', 'Female'],\n",
        "    'Salary': [50000, 60000, 45000, 55000, 70000, 55000],\n",
        "    'Experience': [3, 7, 2, 5, 10, 4]}\n",
        "employee_df = pd.DataFrame(data)\n",
        "print(employee_df)"
      ]
    },
    {
      "cell_type": "code",
      "source": [
        "# Selecting the first 3 rows using iloc\n",
        "first_3_rows = employee_df.iloc[:3]\n",
        "print(\"First 3 rows:\\n\", first_3_rows)"
      ],
      "metadata": {
        "colab": {
          "base_uri": "https://localhost:8080/"
        },
        "id": "74LDt_PUF6Hf",
        "outputId": "4aff36b5-e5a9-4ddb-f383-f2b264a76eaa"
      },
      "execution_count": 7,
      "outputs": [
        {
          "output_type": "stream",
          "name": "stdout",
          "text": [
            "First 3 rows:\n",
            "    Name Department  Age  Gender  Salary  Experience\n",
            "0  John         IT   30    Male   50000           3\n",
            "1  Mary  Marketing   40  Female   60000           7\n",
            "2   Bob      Sales   25    Male   45000           2\n"
          ]
        }
      ]
    },
    {
      "cell_type": "code",
      "source": [
        "# Selecting all rows where Department is 'Marketing' using loc\n",
        "marketing_rows = employee_df.loc[employee_df['Department'] == 'Marketing']\n",
        "print(\"\\nRows where Department is 'Marketing':\\n\", marketing_rows)"
      ],
      "metadata": {
        "colab": {
          "base_uri": "https://localhost:8080/"
        },
        "id": "cAeeFZBNGamm",
        "outputId": "8a60e2fd-3b03-4b91-ba20-3d5d7bfb0a8e"
      },
      "execution_count": 8,
      "outputs": [
        {
          "output_type": "stream",
          "name": "stdout",
          "text": [
            "\n",
            "Rows where Department is 'Marketing':\n",
            "    Name Department  Age  Gender  Salary  Experience\n",
            "1  Mary  Marketing   40  Female   60000           7\n",
            "5  Lisa  Marketing   28  Female   55000           4\n"
          ]
        }
      ]
    },
    {
      "cell_type": "code",
      "source": [
        "# Selecting the 'Age' and 'Gender' columns for the first 4 rows using iloc\n",
        "age_gender_first_4 = employee_df.iloc[:4, [2, 3]]\n",
        "print(\"\\nAge and Gender for the first 4 rows:\\n\", age_gender_first_4)"
      ],
      "metadata": {
        "colab": {
          "base_uri": "https://localhost:8080/"
        },
        "id": "6CI0MzzuGsCp",
        "outputId": "310df582-62f3-48f5-8ca1-16d9b5c4c699"
      },
      "execution_count": 9,
      "outputs": [
        {
          "output_type": "stream",
          "name": "stdout",
          "text": [
            "\n",
            "Age and Gender for the first 4 rows:\n",
            "    Age  Gender\n",
            "0   30    Male\n",
            "1   40  Female\n",
            "2   25    Male\n",
            "3   35  Female\n"
          ]
        }
      ]
    },
    {
      "cell_type": "code",
      "source": [
        "# Selecting 'Salary' and 'Experience' columns where Gender is 'Male' using loc\n",
        "salary_experience_male = employee_df.loc[employee_df['Gender'] == 'Male', ['Salary', 'Experience']]\n",
        "print(\"\\nSalary and Experience for Male employees:\\n\", salary_experience_male)"
      ],
      "metadata": {
        "colab": {
          "base_uri": "https://localhost:8080/"
        },
        "id": "XixjRpMnHZbh",
        "outputId": "1ac60b9e-9218-4c54-b0c0-9191d8ad9e28"
      },
      "execution_count": 10,
      "outputs": [
        {
          "output_type": "stream",
          "name": "stdout",
          "text": [
            "\n",
            "Salary and Experience for Male employees:\n",
            "    Salary  Experience\n",
            "0   50000           3\n",
            "2   45000           2\n",
            "4   70000          10\n"
          ]
        }
      ]
    }
  ]
}