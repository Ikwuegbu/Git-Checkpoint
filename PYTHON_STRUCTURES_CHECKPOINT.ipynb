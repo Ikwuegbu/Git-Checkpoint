{
  "nbformat": 4,
  "nbformat_minor": 0,
  "metadata": {
    "colab": {
      "provenance": [],
      "toc_visible": true,
      "authorship_tag": "ABX9TyM7qU3+CbbKmCAQAHQJYkWY",
      "include_colab_link": true
    },
    "kernelspec": {
      "name": "python3",
      "display_name": "Python 3"
    },
    "language_info": {
      "name": "python"
    }
  },
  "cells": [
    {
      "cell_type": "markdown",
      "metadata": {
        "id": "view-in-github",
        "colab_type": "text"
      },
      "source": [
        "<a href=\"https://colab.research.google.com/github/Ikwuegbu/Git-Checkpoint/blob/main/PYTHON_STRUCTURES_CHECKPOINT.ipynb\" target=\"_parent\"><img src=\"https://colab.research.google.com/assets/colab-badge.svg\" alt=\"Open In Colab\"/></a>"
      ]
    },
    {
      "cell_type": "code",
      "execution_count": 7,
      "metadata": {
        "colab": {
          "base_uri": "https://localhost:8080/"
        },
        "id": "a1eG_nAw1SuX",
        "outputId": "236ab8d7-067e-416a-e2cc-d50d17fcd21b"
      },
      "outputs": [
        {
          "output_type": "stream",
          "name": "stdout",
          "text": [
            "\n",
            " Menu Options: \n",
            "1. Add Item\n",
            "2. Remove Item\n",
            "3. View Shopping List\n",
            "4. Exit\n",
            "Enter your choice (1-4): 1\n",
            "Enter Item to Add: Apple\n",
            "Enter price for Apple: 200\n",
            "Enter quantity for Apple: 4\n",
            "\n",
            " Menu Options: \n",
            "1. Add Item\n",
            "2. Remove Item\n",
            "3. View Shopping List\n",
            "4. Exit\n",
            "Enter your choice (1-4): 4\n",
            "Exiting Program. Goodbye!\n"
          ]
        }
      ],
      "source": [
        "def print_menu():\n",
        "    print(\"\\n Menu Options: \")\n",
        "    print(\"1. Add Item\")\n",
        "    print(\"2. Remove Item\")\n",
        "    print(\"3. View Shopping List\")\n",
        "    print(\"4. Exit\")\n",
        "shopping_list = []\n",
        "item_details = {}\n",
        "max_items = 5\n",
        "def add_item():\n",
        "    if len(shopping_list) < max_items:\n",
        "        item = input(\"Enter Item to Add: \")\n",
        "        price = float(input(f\"Enter price for {item}: \"))\n",
        "        quantity = int(input(f\"Enter quantity for {item}: \"))\n",
        "        shopping_list.append(item)\n",
        "        item_details[item] = (price,quantity)\n",
        "    else:\n",
        "        print(\"Shopping list is full! Cannot add more than 5 items.\")\n",
        "\n",
        "def remove_item():\n",
        "    item = input(\"Enter Item to Remove: \")\n",
        "    if item in shopping_list:\n",
        "        shopping_list.remove(item)\n",
        "        del item_details[item]\n",
        "        print(f\"{item} removed from shopping list\")\n",
        "    else:\n",
        "        print(f\"{item} not found in shopping list.\")\n",
        "def view_items():\n",
        "    if not shopping_list:\n",
        "       print(\"Shopping List is Empty.\")\n",
        "    else:\n",
        "        print(\"\\nShopping Lists: \")\n",
        "        for item in shopping_list:\n",
        "            price,quantity = item_details[item]\n",
        "            print(f\"{item} - Price: #{Price} , Quantity:{quantity}\")\n",
        "while True:\n",
        "    print_menu()\n",
        "    choice = input(\"Enter your choice (1-4): \")\n",
        "    if choice == '1':\n",
        "        add_item()\n",
        "    elif choice == '2':\n",
        "        remove_item()\n",
        "    elif choice == '3':\n",
        "        view_items()\n",
        "    elif choice == '4':\n",
        "        print(\"Exiting Program. Goodbye!\")\n",
        "        break\n",
        "else:\n",
        "        print(\"Invalid selection. Please choose 1,2,3, or 4.\")\n",
        "\n"
      ]
    }
  ]
}