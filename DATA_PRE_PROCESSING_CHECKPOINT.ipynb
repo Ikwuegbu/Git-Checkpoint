{
  "nbformat": 4,
  "nbformat_minor": 0,
  "metadata": {
    "colab": {
      "provenance": [],
      "authorship_tag": "ABX9TyNOjZM/YrYqavO6hV7lZ7g3",
      "include_colab_link": true
    },
    "kernelspec": {
      "name": "python3",
      "display_name": "Python 3"
    },
    "language_info": {
      "name": "python"
    }
  },
  "cells": [
    {
      "cell_type": "markdown",
      "metadata": {
        "id": "view-in-github",
        "colab_type": "text"
      },
      "source": [
        "<a href=\"https://colab.research.google.com/github/Ikwuegbu/Git-Checkpoint/blob/main/DATA_PRE_PROCESSING_CHECKPOINT.ipynb\" target=\"_parent\"><img src=\"https://colab.research.google.com/assets/colab-badge.svg\" alt=\"Open In Colab\"/></a>"
      ]
    },
    {
      "cell_type": "code",
      "execution_count": 2,
      "metadata": {
        "colab": {
          "base_uri": "https://localhost:8080/"
        },
        "id": "-GvAvuYTONxf",
        "outputId": "c06bd4c0-f2c4-491e-d281-66a9bb816d61"
      },
      "outputs": [
        {
          "output_type": "stream",
          "name": "stderr",
          "text": [
            "<ipython-input-2-a8f1696e7fa1>:4: DtypeWarning: Columns (4) have mixed types. Specify dtype option on import or set low_memory=False.\n",
            "  df = pd.read_csv('/content/STEG_BILLING_HISTORY.csv')\n"
          ]
        }
      ],
      "source": [
        "import pandas as pd\n",
        "\n",
        "# Load the dataset\n",
        "df = pd.read_csv('/content/STEG_BILLING_HISTORY.csv')"
      ]
    },
    {
      "cell_type": "code",
      "source": [
        "# Display the first 10 lines and store them in a variable\n",
        "client_0_bills = df.head(10)\n",
        "print(\"First 10 lines of the dataset:\\n\", client_0_bills)"
      ],
      "metadata": {
        "colab": {
          "base_uri": "https://localhost:8080/"
        },
        "id": "hSNlDee_Zyjj",
        "outputId": "5753b02d-5b8c-4cc4-f217-93e081f6cc60"
      },
      "execution_count": 3,
      "outputs": [
        {
          "output_type": "stream",
          "name": "stdout",
          "text": [
            "First 10 lines of the dataset:\n",
            "         client_id invoice_date  tarif_type  counter_number counter_statue  \\\n",
            "0  train_Client_0   2014-03-24          11       1335667.0              0   \n",
            "1  train_Client_0   2013-03-29          11       1335667.0              0   \n",
            "2  train_Client_0   2015-03-23          11       1335667.0              0   \n",
            "3  train_Client_0   2015-07-13          11       1335667.0              0   \n",
            "4  train_Client_0   2016-11-17          11       1335667.0              0   \n",
            "5  train_Client_0   2017-07-17          11       1335667.0              0   \n",
            "6  train_Client_0   2018-12-07          11       1335667.0              0   \n",
            "7  train_Client_0   2019-03-19          11       1335667.0              0   \n",
            "8  train_Client_0   2011-07-22          11       1335667.0              0   \n",
            "9  train_Client_0   2011-11-22          11       1335667.0              0   \n",
            "\n",
            "   counter_code  reading_remarque  counter_coefficient  consommation_level_1  \\\n",
            "0           203               8.0                    1                    82   \n",
            "1           203               6.0                    1                  1200   \n",
            "2           203               8.0                    1                   123   \n",
            "3           207               8.0                    1                   102   \n",
            "4           207               9.0                    1                   572   \n",
            "5           207               9.0                    1                   314   \n",
            "6           207               9.0                    1                   541   \n",
            "7           207               9.0                    1                   585   \n",
            "8           203               9.0                    1                  1200   \n",
            "9           203               6.0                    1                  1082   \n",
            "\n",
            "   consommation_level_2  consommation_level_3  consommation_level_4  \\\n",
            "0                     0                     0                     0   \n",
            "1                   184                     0                     0   \n",
            "2                     0                     0                     0   \n",
            "3                     0                     0                     0   \n",
            "4                     0                     0                     0   \n",
            "5                     0                     0                     0   \n",
            "6                     0                     0                     0   \n",
            "7                     0                     0                     0   \n",
            "8                   186                     0                     0   \n",
            "9                     0                     0                     0   \n",
            "\n",
            "   old_index  new_index  months_number counter_type  \n",
            "0      14302      14384              4         ELEC  \n",
            "1      12294      13678              4         ELEC  \n",
            "2      14624      14747              4         ELEC  \n",
            "3      14747      14849              4         ELEC  \n",
            "4      15066      15638             12         ELEC  \n",
            "5      15638      15952              8         ELEC  \n",
            "6      15952      16493             12         ELEC  \n",
            "7      16493      17078              8         ELEC  \n",
            "8       7770       9156              4         ELEC  \n",
            "9       9156      10238              4         ELEC  \n"
          ]
        }
      ]
    },
    {
      "cell_type": "code",
      "source": [
        "# Check the data type of 'client_0_bills' variable\n",
        "print(\"\\nData type of 'client_0_bills':\", type(client_0_bills))"
      ],
      "metadata": {
        "colab": {
          "base_uri": "https://localhost:8080/"
        },
        "id": "a7lzLGiqaE3R",
        "outputId": "5b34efdf-a19b-4011-d28f-b7577f0bede7"
      },
      "execution_count": 4,
      "outputs": [
        {
          "output_type": "stream",
          "name": "stdout",
          "text": [
            "\n",
            "Data type of 'client_0_bills': <class 'pandas.core.frame.DataFrame'>\n"
          ]
        }
      ]
    },
    {
      "cell_type": "code",
      "source": [
        "# Display general information about the dataset\n",
        "df_info = df.info()"
      ],
      "metadata": {
        "colab": {
          "base_uri": "https://localhost:8080/"
        },
        "id": "srUfrfVPabob",
        "outputId": "cda290ad-4674-4f2c-bff8-aa711a632b89"
      },
      "execution_count": 5,
      "outputs": [
        {
          "output_type": "stream",
          "name": "stdout",
          "text": [
            "<class 'pandas.core.frame.DataFrame'>\n",
            "RangeIndex: 4476749 entries, 0 to 4476748\n",
            "Data columns (total 16 columns):\n",
            " #   Column                Dtype  \n",
            "---  ------                -----  \n",
            " 0   client_id             object \n",
            " 1   invoice_date          object \n",
            " 2   tarif_type            int64  \n",
            " 3   counter_number        float64\n",
            " 4   counter_statue        object \n",
            " 5   counter_code          int64  \n",
            " 6   reading_remarque      float64\n",
            " 7   counter_coefficient   int64  \n",
            " 8   consommation_level_1  int64  \n",
            " 9   consommation_level_2  int64  \n",
            " 10  consommation_level_3  int64  \n",
            " 11  consommation_level_4  int64  \n",
            " 12  old_index             int64  \n",
            " 13  new_index             int64  \n",
            " 14  months_number         int64  \n",
            " 15  counter_type          object \n",
            "dtypes: float64(2), int64(10), object(4)\n",
            "memory usage: 546.5+ MB\n"
          ]
        }
      ]
    },
    {
      "cell_type": "code",
      "source": [
        "# Display the shape of the dataset (number of rows and columns)\n",
        "print(\"\\nNumber of rows and columns:\", df.shape)"
      ],
      "metadata": {
        "colab": {
          "base_uri": "https://localhost:8080/"
        },
        "id": "8GmTCFPhalm2",
        "outputId": "1c8543b3-5327-4ffb-8405-0a50f3eb09bd"
      },
      "execution_count": 6,
      "outputs": [
        {
          "output_type": "stream",
          "name": "stdout",
          "text": [
            "\n",
            "Number of rows and columns: (4476749, 16)\n"
          ]
        }
      ]
    },
    {
      "cell_type": "code",
      "source": [
        "# Identifying categorical features\n",
        "categorical_features = df.select_dtypes(include=['object']).columns\n",
        "print(\"\\nCategorical features in the dataset:\", categorical_features)"
      ],
      "metadata": {
        "colab": {
          "base_uri": "https://localhost:8080/"
        },
        "id": "wwMV5fp7auFd",
        "outputId": "10b8a02e-07ea-410e-dd30-1bac61f97f8a"
      },
      "execution_count": 7,
      "outputs": [
        {
          "output_type": "stream",
          "name": "stdout",
          "text": [
            "\n",
            "Categorical features in the dataset: Index(['client_id', 'invoice_date', 'counter_statue', 'counter_type'], dtype='object')\n"
          ]
        }
      ]
    },
    {
      "cell_type": "code",
      "source": [
        "# Memory usage of the dataset\n",
        "memory_usage = df.memory_usage(deep=True).sum()\n",
        "print(\"\\nMemory usage of the dataset:\", memory_usage, \"bytes\")"
      ],
      "metadata": {
        "colab": {
          "base_uri": "https://localhost:8080/"
        },
        "id": "2fxoeJaKbFka",
        "outputId": "7bd0b7f4-ed81-447b-b6d1-9d5504e09cca"
      },
      "execution_count": 8,
      "outputs": [
        {
          "output_type": "stream",
          "name": "stdout",
          "text": [
            "\n",
            "Memory usage of the dataset: 1482455607 bytes\n"
          ]
        }
      ]
    },
    {
      "cell_type": "code",
      "source": [
        "# Inspecting the dataset for missing values\n",
        "missing_values = df.isnull().sum()\n",
        "print(\"\\nMissing values per column:\\n\", missing_values)"
      ],
      "metadata": {
        "colab": {
          "base_uri": "https://localhost:8080/"
        },
        "id": "zx9P6sf6bRnM",
        "outputId": "f0c9ce87-adaa-418d-9b8d-b47490e2539d"
      },
      "execution_count": 9,
      "outputs": [
        {
          "output_type": "stream",
          "name": "stdout",
          "text": [
            "\n",
            "Missing values per column:\n",
            " client_id                  0\n",
            "invoice_date               0\n",
            "tarif_type                 0\n",
            "counter_number            48\n",
            "counter_statue             0\n",
            "counter_code               0\n",
            "reading_remarque        4531\n",
            "counter_coefficient        0\n",
            "consommation_level_1       0\n",
            "consommation_level_2       0\n",
            "consommation_level_3       0\n",
            "consommation_level_4       0\n",
            "old_index                  0\n",
            "new_index                  0\n",
            "months_number              0\n",
            "counter_type               0\n",
            "dtype: int64\n"
          ]
        }
      ]
    },
    {
      "cell_type": "code",
      "source": [
        "# Selecting a strategy to handle missing values\n",
        "# Example: Drop rows with missing values for simplicity\n",
        "df_cleaned = df.dropna()\n",
        "print(\"\\nData after handling missing values (dropped rows with missing data):\\n\", df_cleaned)"
      ],
      "metadata": {
        "colab": {
          "base_uri": "https://localhost:8080/"
        },
        "id": "qGUGOswibfBk",
        "outputId": "c419f18d-92cd-456b-d299-358471ae319e"
      },
      "execution_count": 10,
      "outputs": [
        {
          "output_type": "stream",
          "name": "stdout",
          "text": [
            "\n",
            "Data after handling missing values (dropped rows with missing data):\n",
            "                   client_id invoice_date  tarif_type  counter_number  \\\n",
            "0            train_Client_0   2014-03-24          11       1335667.0   \n",
            "1            train_Client_0   2013-03-29          11       1335667.0   \n",
            "2            train_Client_0   2015-03-23          11       1335667.0   \n",
            "3            train_Client_0   2015-07-13          11       1335667.0   \n",
            "4            train_Client_0   2016-11-17          11       1335667.0   \n",
            "...                     ...          ...         ...             ...   \n",
            "4476744  train_Client_99998   2005-08-19          10       1253571.0   \n",
            "4476745  train_Client_99998   2005-12-19          10       1253571.0   \n",
            "4476746  train_Client_99999   1996-09-25          11        560948.0   \n",
            "4476747  train_Client_99999   1996-05-28          11        560948.0   \n",
            "4476748  train_Client_99999   1996-01-25          11        560948.0   \n",
            "\n",
            "        counter_statue  counter_code  reading_remarque  counter_coefficient  \\\n",
            "0                    0           203               8.0                    1   \n",
            "1                    0           203               6.0                    1   \n",
            "2                    0           203               8.0                    1   \n",
            "3                    0           207               8.0                    1   \n",
            "4                    0           207               9.0                    1   \n",
            "...                ...           ...               ...                  ...   \n",
            "4476744              0           202               9.0                    1   \n",
            "4476745              0           202               6.0                    1   \n",
            "4476746              0           203               6.0                    1   \n",
            "4476747              0           203               6.0                    1   \n",
            "4476748              0           203               6.0                    1   \n",
            "\n",
            "         consommation_level_1  consommation_level_2  consommation_level_3  \\\n",
            "0                          82                     0                     0   \n",
            "1                        1200                   184                     0   \n",
            "2                         123                     0                     0   \n",
            "3                         102                     0                     0   \n",
            "4                         572                     0                     0   \n",
            "...                       ...                   ...                   ...   \n",
            "4476744                   400                   135                     0   \n",
            "4476745                   200                     6                     0   \n",
            "4476746                   259                     0                     0   \n",
            "4476747                   603                     0                     0   \n",
            "4476748                   516                     0                     0   \n",
            "\n",
            "         consommation_level_4  old_index  new_index  months_number  \\\n",
            "0                           0      14302      14384              4   \n",
            "1                           0      12294      13678              4   \n",
            "2                           0      14624      14747              4   \n",
            "3                           0      14747      14849              4   \n",
            "4                           0      15066      15638             12   \n",
            "...                       ...        ...        ...            ...   \n",
            "4476744                     0       3197       3732              8   \n",
            "4476745                     0       3732       3938              4   \n",
            "4476746                     0      13884      14143              4   \n",
            "4476747                     0      13281      13884              4   \n",
            "4476748                     0      12765      13281              4   \n",
            "\n",
            "        counter_type  \n",
            "0               ELEC  \n",
            "1               ELEC  \n",
            "2               ELEC  \n",
            "3               ELEC  \n",
            "4               ELEC  \n",
            "...              ...  \n",
            "4476744         ELEC  \n",
            "4476745         ELEC  \n",
            "4476746         ELEC  \n",
            "4476747         ELEC  \n",
            "4476748         ELEC  \n",
            "\n",
            "[4472170 rows x 16 columns]\n"
          ]
        }
      ]
    },
    {
      "cell_type": "code",
      "source": [
        "# Descriptive analysis of numeric features\n",
        "numeric_descriptive_analysis = df.describe()\n",
        "print(\"\\nDescriptive analysis on numeric features:\\n\", numeric_descriptive_analysis)"
      ],
      "metadata": {
        "colab": {
          "base_uri": "https://localhost:8080/"
        },
        "id": "ewToR-WUb3M6",
        "outputId": "e910adc5-8e5b-4783-9ba2-bf1c73009828"
      },
      "execution_count": 11,
      "outputs": [
        {
          "output_type": "stream",
          "name": "stdout",
          "text": [
            "\n",
            "Descriptive analysis on numeric features:\n",
            "          tarif_type  counter_number  counter_code  reading_remarque  \\\n",
            "count  4.476749e+06    4.476701e+06  4.476749e+06      4.472218e+06   \n",
            "mean   2.012804e+01    1.230595e+11  1.724884e+02      7.321713e+00   \n",
            "std    1.347256e+01    1.657276e+12  1.338871e+02      1.571859e+00   \n",
            "min    8.000000e+00    0.000000e+00  0.000000e+00      5.000000e+00   \n",
            "25%    1.100000e+01    1.211080e+05  5.000000e+00      6.000000e+00   \n",
            "50%    1.100000e+01    4.945610e+05  2.030000e+02      8.000000e+00   \n",
            "75%    4.000000e+01    1.115161e+06  2.070000e+02      9.000000e+00   \n",
            "max    4.500000e+01    2.798115e+13  6.000000e+02      4.130000e+02   \n",
            "\n",
            "       counter_coefficient  consommation_level_1  consommation_level_2  \\\n",
            "count         4.476749e+06          4.476749e+06          4.476749e+06   \n",
            "mean          1.003040e+00          4.109795e+02          1.093225e+02   \n",
            "std           3.083466e-01          7.573080e+02          1.220123e+03   \n",
            "min           0.000000e+00          0.000000e+00          0.000000e+00   \n",
            "25%           1.000000e+00          7.900000e+01          0.000000e+00   \n",
            "50%           1.000000e+00          2.740000e+02          0.000000e+00   \n",
            "75%           1.000000e+00          6.000000e+02          0.000000e+00   \n",
            "max           5.000000e+01          9.999100e+05          9.990730e+05   \n",
            "\n",
            "       consommation_level_3  consommation_level_4     old_index     new_index  \\\n",
            "count          4.476749e+06          4.476749e+06  4.476749e+06  4.476749e+06   \n",
            "mean           2.030620e+01          5.292588e+01  1.776700e+04  1.834970e+04   \n",
            "std            1.574239e+02          8.754725e+02  4.036693e+04  4.095321e+04   \n",
            "min            0.000000e+00          0.000000e+00  0.000000e+00  0.000000e+00   \n",
            "25%            0.000000e+00          0.000000e+00  1.791000e+03  2.056000e+03   \n",
            "50%            0.000000e+00          0.000000e+00  7.690000e+03  8.192000e+03   \n",
            "75%            0.000000e+00          0.000000e+00  2.166000e+04  2.234300e+04   \n",
            "max            6.449200e+04          5.479460e+05  2.800280e+06  2.870972e+06   \n",
            "\n",
            "       months_number  \n",
            "count   4.476749e+06  \n",
            "mean    4.483095e+01  \n",
            "std     3.128335e+03  \n",
            "min     0.000000e+00  \n",
            "25%     4.000000e+00  \n",
            "50%     4.000000e+00  \n",
            "75%     4.000000e+00  \n",
            "max     6.366240e+05  \n"
          ]
        }
      ]
    },
    {
      "cell_type": "code",
      "source": [
        "# Select bills records for the client with id = 'train_Client_0' (Method 1)\n",
        "client_0_records_method_1 = df[df['client_id'] == 'train_Client_0']\n",
        "print(\"\\nClient 'train_Client_0' records (Method 1):\\n\", client_0_records_method_1)"
      ],
      "metadata": {
        "colab": {
          "base_uri": "https://localhost:8080/"
        },
        "id": "kx3EgVrHcHfc",
        "outputId": "813c6d63-5024-471a-8355-bf42869d50a4"
      },
      "execution_count": 12,
      "outputs": [
        {
          "output_type": "stream",
          "name": "stdout",
          "text": [
            "\n",
            "Client 'train_Client_0' records (Method 1):\n",
            "          client_id invoice_date  tarif_type  counter_number counter_statue  \\\n",
            "0   train_Client_0   2014-03-24          11       1335667.0              0   \n",
            "1   train_Client_0   2013-03-29          11       1335667.0              0   \n",
            "2   train_Client_0   2015-03-23          11       1335667.0              0   \n",
            "3   train_Client_0   2015-07-13          11       1335667.0              0   \n",
            "4   train_Client_0   2016-11-17          11       1335667.0              0   \n",
            "5   train_Client_0   2017-07-17          11       1335667.0              0   \n",
            "6   train_Client_0   2018-12-07          11       1335667.0              0   \n",
            "7   train_Client_0   2019-03-19          11       1335667.0              0   \n",
            "8   train_Client_0   2011-07-22          11       1335667.0              0   \n",
            "9   train_Client_0   2011-11-22          11       1335667.0              0   \n",
            "10  train_Client_0   2008-11-25          11       1335667.0              0   \n",
            "11  train_Client_0   2012-07-23          11       1335667.0              0   \n",
            "12  train_Client_0   2012-11-29          11       1335667.0              0   \n",
            "13  train_Client_0   2013-07-22          11       1335667.0              0   \n",
            "14  train_Client_0   2014-07-18          11       1335667.0              0   \n",
            "15  train_Client_0   2014-11-24          11       1335667.0              0   \n",
            "16  train_Client_0   2015-11-18          11       1335667.0              0   \n",
            "17  train_Client_0   2012-03-27          11       1335667.0              0   \n",
            "18  train_Client_0   2011-03-30          11       1335667.0              0   \n",
            "19  train_Client_0   2013-02-12          11       1335667.0              0   \n",
            "20  train_Client_0   2010-07-22          11       1335667.0              0   \n",
            "21  train_Client_0   2010-11-24          11       1335667.0              0   \n",
            "22  train_Client_0   2005-10-17          11       1335667.0              0   \n",
            "23  train_Client_0   2006-02-24          11       1335667.0              0   \n",
            "24  train_Client_0   2006-06-23          11       1335667.0              0   \n",
            "25  train_Client_0   2006-10-18          11       1335667.0              0   \n",
            "26  train_Client_0   2007-06-27          11       1335667.0              0   \n",
            "27  train_Client_0   2007-10-25          11       1335667.0              0   \n",
            "28  train_Client_0   2007-02-26          11       1335667.0              0   \n",
            "29  train_Client_0   2008-07-28          11       1335667.0              0   \n",
            "30  train_Client_0   2009-01-04          11       1335667.0              0   \n",
            "31  train_Client_0   2009-07-27          11       1335667.0              0   \n",
            "32  train_Client_0   2009-11-24          11       1335667.0              0   \n",
            "33  train_Client_0   2010-03-29          11       1335667.0              0   \n",
            "34  train_Client_0   2008-01-04          11       1335667.0              0   \n",
            "\n",
            "    counter_code  reading_remarque  counter_coefficient  consommation_level_1  \\\n",
            "0            203               8.0                    1                    82   \n",
            "1            203               6.0                    1                  1200   \n",
            "2            203               8.0                    1                   123   \n",
            "3            207               8.0                    1                   102   \n",
            "4            207               9.0                    1                   572   \n",
            "5            207               9.0                    1                   314   \n",
            "6            207               9.0                    1                   541   \n",
            "7            207               9.0                    1                   585   \n",
            "8            203               9.0                    1                  1200   \n",
            "9            203               6.0                    1                  1082   \n",
            "10           203               6.0                    1                   174   \n",
            "11           203               6.0                    1                   628   \n",
            "12           203               6.0                    1                   886   \n",
            "13           203               8.0                    1                   147   \n",
            "14           203               8.0                    1                    99   \n",
            "15           203               8.0                    1                   141   \n",
            "16           207               9.0                    1                   217   \n",
            "17           203               8.0                    1                   292   \n",
            "18           203               6.0                    1                   497   \n",
            "19           203               8.0                    1                    38   \n",
            "20           203               6.0                    1                   278   \n",
            "21           203               6.0                    1                   234   \n",
            "22           203               6.0                    1                   124   \n",
            "23           203               6.0                    1                   141   \n",
            "24           203               6.0                    1                   162   \n",
            "25           203               6.0                    1                   159   \n",
            "26           203               6.0                    1                   240   \n",
            "27           203               6.0                    1                   276   \n",
            "28           203               6.0                    1                   182   \n",
            "29           203               6.0                    1                   171   \n",
            "30           203               6.0                    1                   315   \n",
            "31           203               6.0                    1                   312   \n",
            "32           203               6.0                    1                   267   \n",
            "33           203               6.0                    1                   276   \n",
            "34           203               6.0                    1                   277   \n",
            "\n",
            "    consommation_level_2  consommation_level_3  consommation_level_4  \\\n",
            "0                      0                     0                     0   \n",
            "1                    184                     0                     0   \n",
            "2                      0                     0                     0   \n",
            "3                      0                     0                     0   \n",
            "4                      0                     0                     0   \n",
            "5                      0                     0                     0   \n",
            "6                      0                     0                     0   \n",
            "7                      0                     0                     0   \n",
            "8                    186                     0                     0   \n",
            "9                      0                     0                     0   \n",
            "10                     0                     0                     0   \n",
            "11                     0                     0                     0   \n",
            "12                     0                     0                     0   \n",
            "13                     0                     0                     0   \n",
            "14                     0                     0                     0   \n",
            "15                     0                     0                     0   \n",
            "16                     0                     0                     0   \n",
            "17                     0                     0                     0   \n",
            "18                     0                     0                     0   \n",
            "19                     0                     0                     0   \n",
            "20                     0                     0                     0   \n",
            "21                     0                     0                     0   \n",
            "22                     0                     0                     0   \n",
            "23                     0                     0                     0   \n",
            "24                     0                     0                     0   \n",
            "25                     0                     0                     0   \n",
            "26                     0                     0                     0   \n",
            "27                     0                     0                     0   \n",
            "28                     0                     0                     0   \n",
            "29                     0                     0                     0   \n",
            "30                     0                     0                     0   \n",
            "31                     0                     0                     0   \n",
            "32                     0                     0                     0   \n",
            "33                     0                     0                     0   \n",
            "34                     0                     0                     0   \n",
            "\n",
            "    old_index  new_index  months_number counter_type  \n",
            "0       14302      14384              4         ELEC  \n",
            "1       12294      13678              4         ELEC  \n",
            "2       14624      14747              4         ELEC  \n",
            "3       14747      14849              4         ELEC  \n",
            "4       15066      15638             12         ELEC  \n",
            "5       15638      15952              8         ELEC  \n",
            "6       15952      16493             12         ELEC  \n",
            "7       16493      17078              8         ELEC  \n",
            "8        7770       9156              4         ELEC  \n",
            "9        9156      10238              4         ELEC  \n",
            "10       5417       5591              4         ELEC  \n",
            "11      10780      11408              4         ELEC  \n",
            "12      11408      12294              4         ELEC  \n",
            "13      13983      14130              4         ELEC  \n",
            "14      14384      14483              4         ELEC  \n",
            "15      14483      14624              4         ELEC  \n",
            "16      14849      15066              4         ELEC  \n",
            "17      10488      10780              4         ELEC  \n",
            "18       7273       7770              4         ELEC  \n",
            "19      14264      14302              2         ELEC  \n",
            "20       6761       7039              4         ELEC  \n",
            "21       7039       7273              4         ELEC  \n",
            "22       3685       3809              4         ELEC  \n",
            "23       3809       3950              4         ELEC  \n",
            "24       3950       4112              4         ELEC  \n",
            "25       4112       4271              4         ELEC  \n",
            "26       4453       4693              4         ELEC  \n",
            "27       4693       4969              4         ELEC  \n",
            "28       4271       4453              4         ELEC  \n",
            "29       5246       5417              4         ELEC  \n",
            "30       5591       5906              4         ELEC  \n",
            "31       5906       6218              4         ELEC  \n",
            "32       6218       6485              4         ELEC  \n",
            "33       6485       6761              4         ELEC  \n",
            "34       4969       5246              4         ELEC  \n"
          ]
        }
      ]
    },
    {
      "cell_type": "code",
      "source": [
        "# Select bills records for the client with id = 'train_Client_0' (Method 2: Using query)\n",
        "client_0_records_method_2 = df.query(\"client_id == 'train_Client_0'\")\n",
        "print(\"\\nClient 'train_Client_0' records (Method 2):\\n\", client_0_records_method_2)"
      ],
      "metadata": {
        "colab": {
          "base_uri": "https://localhost:8080/"
        },
        "id": "KBXBRLDocVrL",
        "outputId": "4d5a686b-7e37-4a03-bd15-9cf575c41601"
      },
      "execution_count": 13,
      "outputs": [
        {
          "output_type": "stream",
          "name": "stdout",
          "text": [
            "\n",
            "Client 'train_Client_0' records (Method 2):\n",
            "          client_id invoice_date  tarif_type  counter_number counter_statue  \\\n",
            "0   train_Client_0   2014-03-24          11       1335667.0              0   \n",
            "1   train_Client_0   2013-03-29          11       1335667.0              0   \n",
            "2   train_Client_0   2015-03-23          11       1335667.0              0   \n",
            "3   train_Client_0   2015-07-13          11       1335667.0              0   \n",
            "4   train_Client_0   2016-11-17          11       1335667.0              0   \n",
            "5   train_Client_0   2017-07-17          11       1335667.0              0   \n",
            "6   train_Client_0   2018-12-07          11       1335667.0              0   \n",
            "7   train_Client_0   2019-03-19          11       1335667.0              0   \n",
            "8   train_Client_0   2011-07-22          11       1335667.0              0   \n",
            "9   train_Client_0   2011-11-22          11       1335667.0              0   \n",
            "10  train_Client_0   2008-11-25          11       1335667.0              0   \n",
            "11  train_Client_0   2012-07-23          11       1335667.0              0   \n",
            "12  train_Client_0   2012-11-29          11       1335667.0              0   \n",
            "13  train_Client_0   2013-07-22          11       1335667.0              0   \n",
            "14  train_Client_0   2014-07-18          11       1335667.0              0   \n",
            "15  train_Client_0   2014-11-24          11       1335667.0              0   \n",
            "16  train_Client_0   2015-11-18          11       1335667.0              0   \n",
            "17  train_Client_0   2012-03-27          11       1335667.0              0   \n",
            "18  train_Client_0   2011-03-30          11       1335667.0              0   \n",
            "19  train_Client_0   2013-02-12          11       1335667.0              0   \n",
            "20  train_Client_0   2010-07-22          11       1335667.0              0   \n",
            "21  train_Client_0   2010-11-24          11       1335667.0              0   \n",
            "22  train_Client_0   2005-10-17          11       1335667.0              0   \n",
            "23  train_Client_0   2006-02-24          11       1335667.0              0   \n",
            "24  train_Client_0   2006-06-23          11       1335667.0              0   \n",
            "25  train_Client_0   2006-10-18          11       1335667.0              0   \n",
            "26  train_Client_0   2007-06-27          11       1335667.0              0   \n",
            "27  train_Client_0   2007-10-25          11       1335667.0              0   \n",
            "28  train_Client_0   2007-02-26          11       1335667.0              0   \n",
            "29  train_Client_0   2008-07-28          11       1335667.0              0   \n",
            "30  train_Client_0   2009-01-04          11       1335667.0              0   \n",
            "31  train_Client_0   2009-07-27          11       1335667.0              0   \n",
            "32  train_Client_0   2009-11-24          11       1335667.0              0   \n",
            "33  train_Client_0   2010-03-29          11       1335667.0              0   \n",
            "34  train_Client_0   2008-01-04          11       1335667.0              0   \n",
            "\n",
            "    counter_code  reading_remarque  counter_coefficient  consommation_level_1  \\\n",
            "0            203               8.0                    1                    82   \n",
            "1            203               6.0                    1                  1200   \n",
            "2            203               8.0                    1                   123   \n",
            "3            207               8.0                    1                   102   \n",
            "4            207               9.0                    1                   572   \n",
            "5            207               9.0                    1                   314   \n",
            "6            207               9.0                    1                   541   \n",
            "7            207               9.0                    1                   585   \n",
            "8            203               9.0                    1                  1200   \n",
            "9            203               6.0                    1                  1082   \n",
            "10           203               6.0                    1                   174   \n",
            "11           203               6.0                    1                   628   \n",
            "12           203               6.0                    1                   886   \n",
            "13           203               8.0                    1                   147   \n",
            "14           203               8.0                    1                    99   \n",
            "15           203               8.0                    1                   141   \n",
            "16           207               9.0                    1                   217   \n",
            "17           203               8.0                    1                   292   \n",
            "18           203               6.0                    1                   497   \n",
            "19           203               8.0                    1                    38   \n",
            "20           203               6.0                    1                   278   \n",
            "21           203               6.0                    1                   234   \n",
            "22           203               6.0                    1                   124   \n",
            "23           203               6.0                    1                   141   \n",
            "24           203               6.0                    1                   162   \n",
            "25           203               6.0                    1                   159   \n",
            "26           203               6.0                    1                   240   \n",
            "27           203               6.0                    1                   276   \n",
            "28           203               6.0                    1                   182   \n",
            "29           203               6.0                    1                   171   \n",
            "30           203               6.0                    1                   315   \n",
            "31           203               6.0                    1                   312   \n",
            "32           203               6.0                    1                   267   \n",
            "33           203               6.0                    1                   276   \n",
            "34           203               6.0                    1                   277   \n",
            "\n",
            "    consommation_level_2  consommation_level_3  consommation_level_4  \\\n",
            "0                      0                     0                     0   \n",
            "1                    184                     0                     0   \n",
            "2                      0                     0                     0   \n",
            "3                      0                     0                     0   \n",
            "4                      0                     0                     0   \n",
            "5                      0                     0                     0   \n",
            "6                      0                     0                     0   \n",
            "7                      0                     0                     0   \n",
            "8                    186                     0                     0   \n",
            "9                      0                     0                     0   \n",
            "10                     0                     0                     0   \n",
            "11                     0                     0                     0   \n",
            "12                     0                     0                     0   \n",
            "13                     0                     0                     0   \n",
            "14                     0                     0                     0   \n",
            "15                     0                     0                     0   \n",
            "16                     0                     0                     0   \n",
            "17                     0                     0                     0   \n",
            "18                     0                     0                     0   \n",
            "19                     0                     0                     0   \n",
            "20                     0                     0                     0   \n",
            "21                     0                     0                     0   \n",
            "22                     0                     0                     0   \n",
            "23                     0                     0                     0   \n",
            "24                     0                     0                     0   \n",
            "25                     0                     0                     0   \n",
            "26                     0                     0                     0   \n",
            "27                     0                     0                     0   \n",
            "28                     0                     0                     0   \n",
            "29                     0                     0                     0   \n",
            "30                     0                     0                     0   \n",
            "31                     0                     0                     0   \n",
            "32                     0                     0                     0   \n",
            "33                     0                     0                     0   \n",
            "34                     0                     0                     0   \n",
            "\n",
            "    old_index  new_index  months_number counter_type  \n",
            "0       14302      14384              4         ELEC  \n",
            "1       12294      13678              4         ELEC  \n",
            "2       14624      14747              4         ELEC  \n",
            "3       14747      14849              4         ELEC  \n",
            "4       15066      15638             12         ELEC  \n",
            "5       15638      15952              8         ELEC  \n",
            "6       15952      16493             12         ELEC  \n",
            "7       16493      17078              8         ELEC  \n",
            "8        7770       9156              4         ELEC  \n",
            "9        9156      10238              4         ELEC  \n",
            "10       5417       5591              4         ELEC  \n",
            "11      10780      11408              4         ELEC  \n",
            "12      11408      12294              4         ELEC  \n",
            "13      13983      14130              4         ELEC  \n",
            "14      14384      14483              4         ELEC  \n",
            "15      14483      14624              4         ELEC  \n",
            "16      14849      15066              4         ELEC  \n",
            "17      10488      10780              4         ELEC  \n",
            "18       7273       7770              4         ELEC  \n",
            "19      14264      14302              2         ELEC  \n",
            "20       6761       7039              4         ELEC  \n",
            "21       7039       7273              4         ELEC  \n",
            "22       3685       3809              4         ELEC  \n",
            "23       3809       3950              4         ELEC  \n",
            "24       3950       4112              4         ELEC  \n",
            "25       4112       4271              4         ELEC  \n",
            "26       4453       4693              4         ELEC  \n",
            "27       4693       4969              4         ELEC  \n",
            "28       4271       4453              4         ELEC  \n",
            "29       5246       5417              4         ELEC  \n",
            "30       5591       5906              4         ELEC  \n",
            "31       5906       6218              4         ELEC  \n",
            "32       6218       6485              4         ELEC  \n",
            "33       6485       6761              4         ELEC  \n",
            "34       4969       5246              4         ELEC  \n"
          ]
        }
      ]
    },
    {
      "cell_type": "code",
      "source": [
        "# Transform the 'counter_type' feature to a numeric variable using label encoding\n",
        "from sklearn.preprocessing import LabelEncoder\n",
        "le = LabelEncoder()\n",
        "df['counter_type_numeric'] = le.fit_transform(df['counter_type'])\n",
        "print(\"\\n'counter_type' feature transformed to numeric:\\n\", df[['counter_type', 'counter_type_numeric']].head())"
      ],
      "metadata": {
        "colab": {
          "base_uri": "https://localhost:8080/"
        },
        "id": "U_NdmK4zcea0",
        "outputId": "5c7eb2c9-49d5-4cc9-f339-697080fddb90"
      },
      "execution_count": 14,
      "outputs": [
        {
          "output_type": "stream",
          "name": "stdout",
          "text": [
            "\n",
            "'counter_type' feature transformed to numeric:\n",
            "   counter_type  counter_type_numeric\n",
            "0         ELEC                     0\n",
            "1         ELEC                     0\n",
            "2         ELEC                     0\n",
            "3         ELEC                     0\n",
            "4         ELEC                     0\n"
          ]
        }
      ]
    },
    {
      "cell_type": "code",
      "source": [
        "# Delete the 'counter_statue' feature from the DataFrame\n",
        "df = df.drop('counter_statue', axis=1)\n",
        "print(\"\\nData after dropping 'counter_statue' feature:\\n\", df.head())"
      ],
      "metadata": {
        "colab": {
          "base_uri": "https://localhost:8080/"
        },
        "id": "mieLZ57Ecn9L",
        "outputId": "fde53cca-53d8-4272-e37b-0bd027379e24"
      },
      "execution_count": 15,
      "outputs": [
        {
          "output_type": "stream",
          "name": "stdout",
          "text": [
            "\n",
            "Data after dropping 'counter_statue' feature:\n",
            "         client_id invoice_date  tarif_type  counter_number  counter_code  \\\n",
            "0  train_Client_0   2014-03-24          11       1335667.0           203   \n",
            "1  train_Client_0   2013-03-29          11       1335667.0           203   \n",
            "2  train_Client_0   2015-03-23          11       1335667.0           203   \n",
            "3  train_Client_0   2015-07-13          11       1335667.0           207   \n",
            "4  train_Client_0   2016-11-17          11       1335667.0           207   \n",
            "\n",
            "   reading_remarque  counter_coefficient  consommation_level_1  \\\n",
            "0               8.0                    1                    82   \n",
            "1               6.0                    1                  1200   \n",
            "2               8.0                    1                   123   \n",
            "3               8.0                    1                   102   \n",
            "4               9.0                    1                   572   \n",
            "\n",
            "   consommation_level_2  consommation_level_3  consommation_level_4  \\\n",
            "0                     0                     0                     0   \n",
            "1                   184                     0                     0   \n",
            "2                     0                     0                     0   \n",
            "3                     0                     0                     0   \n",
            "4                     0                     0                     0   \n",
            "\n",
            "   old_index  new_index  months_number counter_type  counter_type_numeric  \n",
            "0      14302      14384              4         ELEC                     0  \n",
            "1      12294      13678              4         ELEC                     0  \n",
            "2      14624      14747              4         ELEC                     0  \n",
            "3      14747      14849              4         ELEC                     0  \n",
            "4      15066      15638             12         ELEC                     0  \n"
          ]
        }
      ]
    }
  ]
}