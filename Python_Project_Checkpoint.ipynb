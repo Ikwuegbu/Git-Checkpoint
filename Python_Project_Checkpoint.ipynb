{
  "nbformat": 4,
  "nbformat_minor": 0,
  "metadata": {
    "colab": {
      "provenance": [],
      "authorship_tag": "ABX9TyMf374fYPBGDTr4QLrCbEC2",
      "include_colab_link": true
    },
    "kernelspec": {
      "name": "python3",
      "display_name": "Python 3"
    },
    "language_info": {
      "name": "python"
    }
  },
  "cells": [
    {
      "cell_type": "markdown",
      "metadata": {
        "id": "view-in-github",
        "colab_type": "text"
      },
      "source": [
        "<a href=\"https://colab.research.google.com/github/Ikwuegbu/Git-Checkpoint/blob/main/Python_Project_Checkpoint.ipynb\" target=\"_parent\"><img src=\"https://colab.research.google.com/assets/colab-badge.svg\" alt=\"Open In Colab\"/></a>"
      ]
    },
    {
      "cell_type": "code",
      "source": [
        "!pip install pyvirtualdisplay"
      ],
      "metadata": {
        "colab": {
          "base_uri": "https://localhost:8080/"
        },
        "id": "krjgCbwN1czU",
        "outputId": "586294ea-1049-4c0c-c9aa-c380eadf0845"
      },
      "execution_count": 11,
      "outputs": [
        {
          "output_type": "stream",
          "name": "stdout",
          "text": [
            "Collecting pyvirtualdisplay\n",
            "  Downloading PyVirtualDisplay-3.0-py3-none-any.whl.metadata (943 bytes)\n",
            "Downloading PyVirtualDisplay-3.0-py3-none-any.whl (15 kB)\n",
            "Installing collected packages: pyvirtualdisplay\n",
            "Successfully installed pyvirtualdisplay-3.0\n"
          ]
        }
      ]
    },
    {
      "cell_type": "code",
      "execution_count": 12,
      "metadata": {
        "id": "wb_3IorXxkwF"
      },
      "outputs": [],
      "source": [
        "#Import Libraries\n",
        "import random\n",
        "import time\n",
        "from pyvirtualdisplay import Display\n",
        "import tkinter as tk\n",
        "from tkinter import messagebox\n",
        "import json"
      ]
    },
    {
      "cell_type": "code",
      "source": [
        "#Quiz Data\n",
        "questions = [\n",
        "    {\n",
        "        \"question\": \"What is the capital of Egypt?\",\n",
        "        \"options\": [\"Cairo\", \"Lagos\", \"Nairobi\", \"Accra\"],\n",
        "        \"answer\": \"Cairo\"\n",
        "    },\n",
        "    {\n",
        "        \"question\": \"What is the largest country by area?\",\n",
        "        \"options\": [\"Russia\", \"Canada\", \"China\", \"USA\"],\n",
        "        \"answer\": \"Russia\"\n",
        "    },\n",
        "    {\n",
        "        \"question\": \"What year did man first walk on the moon?\",\n",
        "        \"options\": [\"1969\", \"1972\", \"1965\", \"1959\"],\n",
        "        \"answer\": \"1969\"\n",
        "    },\n",
        "    {\n",
        "        \"question\": \"Which element has the chemical symbol 'O'?\",\n",
        "        \"options\": [\"Oxygen\", \"Osmium\", \"Oganesson\", \"Ozone\"],\n",
        "        \"answer\": \"Oxygen\"\n",
        "    }\n",
        "]"
      ],
      "metadata": {
        "id": "fTW4tcvoyA2E"
      },
      "execution_count": 2,
      "outputs": []
    },
    {
      "cell_type": "code",
      "source": [
        "#Core Functions for text-based Quiz\n",
        "\n",
        "#1 Shuffle the Questions\n",
        "def shuffle_questions():\n",
        "    random.shuffle(questions)\n"
      ],
      "metadata": {
        "id": "oXXOZi5gyVTr"
      },
      "execution_count": 3,
      "outputs": []
    },
    {
      "cell_type": "code",
      "source": [
        "#2 Capture and Validate User Input\n",
        "def ask_question(question_data):\n",
        "    print(question_data[\"question\"])\n",
        "    options = question_data[\"options\"]\n",
        "    for idx, option in enumerate(options):\n",
        "        print(f\"{idx + 1}. {option}\")\n",
        "\n",
        "    user_choice = input(\"Choose the correct answer (1-4): \")\n",
        "\n",
        "    # Validate input\n",
        "    try:\n",
        "        user_choice = int(user_choice)\n",
        "        if 1 <= user_choice <= 4:\n",
        "            selected_option = options[user_choice - 1]\n",
        "            return selected_option == question_data[\"answer\"]\n",
        "        else:\n",
        "            print(\"Invalid choice. Please choose between 1 and 4.\")\n",
        "            return ask_question(question_data)\n",
        "    except ValueError:\n",
        "        print(\"Invalid input. Please enter a number between 1 and 4.\")\n",
        "        return ask_question(question_data)"
      ],
      "metadata": {
        "id": "sIJfP9GRyulU"
      },
      "execution_count": 4,
      "outputs": []
    },
    {
      "cell_type": "code",
      "source": [
        "#3 Provide Instant Feedback and Track Score\n",
        "def play_quiz():\n",
        "    score = 0\n",
        "    shuffle_questions()\n",
        "\n",
        "    for i, question in enumerate(questions):\n",
        "        print(f\"\\nQuestion {i + 1}\")\n",
        "        correct = ask_question(question)\n",
        "        if correct:\n",
        "            print(\"Correct!\")\n",
        "            score += 1\n",
        "        else:\n",
        "            print(f\"Wrong! The correct answer was: {question['answer']}\")\n",
        "\n",
        "    print(f\"\\nQuiz Over! Your final score is {score}/{len(questions)}\")\n",
        "    return score"
      ],
      "metadata": {
        "id": "qoTmIb0Cy4UT"
      },
      "execution_count": 5,
      "outputs": []
    },
    {
      "cell_type": "code",
      "source": [
        "#4 Implement a Timer for each Question\n",
        "def ask_question_with_timer(question_data, time_limit=10):\n",
        "    print(question_data[\"question\"])\n",
        "    options = question_data[\"options\"]\n",
        "    for idx, option in enumerate(options):\n",
        "        print(f\"{idx + 1}. {option}\")\n",
        "\n",
        "    start_time = time.time()\n",
        "    user_choice = input(f\"Choose the correct answer (1-4) within {time_limit} seconds: \")\n",
        "\n",
        "    if time.time() - start_time > time_limit:\n",
        "        print(\"Time's up!\")\n",
        "        return False\n",
        "\n",
        "    try:\n",
        "        user_choice = int(user_choice)\n",
        "        if 1 <= user_choice <= 4:\n",
        "            selected_option = options[user_choice - 1]\n",
        "            return selected_option == question_data[\"answer\"]\n",
        "        else:\n",
        "            print(\"Invalid choice. Please choose between 1 and 4.\")\n",
        "            return ask_question_with_timer(question_data, time_limit)\n",
        "    except ValueError:\n",
        "        print(\"Invalid input. Please enter a number between 1 and 4.\")\n",
        "        return ask_question_with_timer(question_data, time_limit)"
      ],
      "metadata": {
        "id": "IU-IaZbfzA4z"
      },
      "execution_count": 6,
      "outputs": []
    },
    {
      "cell_type": "code",
      "source": [
        "#High Score Tracking\n",
        "#Save and Load High Score using Jason\n",
        "def load_high_scores():\n",
        "    try:\n",
        "        with open('high_scores.json', 'r') as file:\n",
        "            return json.load(file)\n",
        "    except FileNotFoundError:\n",
        "        return {}\n",
        "\n",
        "def save_high_scores(high_scores):\n",
        "    with open('high_scores.json', 'w') as file:\n",
        "        json.dump(high_scores, file)\n",
        "\n",
        "def update_high_score(score):\n",
        "    name = input(\"Enter your name: \")\n",
        "    high_scores = load_high_scores()\n",
        "    high_scores[name] = score\n",
        "    save_high_scores(high_scores)\n",
        "    print(\"High score saved!\")"
      ],
      "metadata": {
        "id": "VDcJvASMzLv8"
      },
      "execution_count": 7,
      "outputs": []
    },
    {
      "cell_type": "code",
      "source": [
        "#How the Python Quiz Game Works:\n",
        "\n",
        "#Text-Based Mode:\n",
        "#The game will present multiple-choice questions.\n",
        "#User input will be captured and validated.\n",
        "#Score will be tracked and displayed at the end.\n",
        "\n",
        "#GUI Mode:\n",
        "#Using Tkinter, the game will present the questions through a graphical interface, and feedback will be shown after each question.Enhancements:\n",
        "\n",
        "#The questions are shuffled randomly.\n",
        "#A timer can be added using ask_question_with_timer.\n",
        "#High scores are saved and loaded using JSON."
      ],
      "metadata": {
        "id": "R7ivsu1C3De3"
      },
      "execution_count": null,
      "outputs": []
    }
  ]
}